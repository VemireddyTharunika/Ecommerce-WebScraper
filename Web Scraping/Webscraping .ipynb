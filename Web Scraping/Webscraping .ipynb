{
 "cells": [
  {
   "cell_type": "code",
   "execution_count": 21,
   "id": "5dcc2a4c-0eb0-4487-afd2-c1132b61e78f",
   "metadata": {},
   "outputs": [],
   "source": [
    "import requests\n",
    "from bs4 import BeautifulSoup\n",
    "import pandas as pd"
   ]
  },
  {
   "cell_type": "code",
   "execution_count": 22,
   "id": "a64b67ee-0252-41c3-b3a1-53fc3e835d81",
   "metadata": {},
   "outputs": [],
   "source": [
    "URL = 'https://books.toscrape.com/' "
   ]
  },
  {
   "cell_type": "code",
   "execution_count": 23,
   "id": "72a11702-a822-4a28-8aa9-95f4d12418e7",
   "metadata": {},
   "outputs": [],
   "source": [
    "page = requests.get(URL)"
   ]
  },
  {
   "cell_type": "code",
   "execution_count": 24,
   "id": "3f2fbf76-01bf-48fd-901b-ead22ed64e84",
   "metadata": {},
   "outputs": [
    {
     "name": "stdout",
     "output_type": "stream",
     "text": [
      "Successfully fetched the webpage\n"
     ]
    }
   ],
   "source": [
    "if page.status_code == 200:\n",
    "    print(\"Successfully fetched the webpage\")\n",
    "else:\n",
    "    print(f\"Failed to fetch webpage. Status code: {page.status_code}\")\n",
    "    exit()\n"
   ]
  },
  {
   "cell_type": "code",
   "execution_count": 25,
   "id": "c6dc50a5-3c1b-4b0a-8297-a0b5c9a99f9e",
   "metadata": {},
   "outputs": [],
   "source": [
    "soup = BeautifulSoup(page.text, 'html.parser')"
   ]
  },
  {
   "cell_type": "code",
   "execution_count": 26,
   "id": "486abd10-0256-4e06-87ea-3717efd93a98",
   "metadata": {},
   "outputs": [],
   "source": [
    "books = soup.find_all('article', class_='product_pod')"
   ]
  },
  {
   "cell_type": "code",
   "execution_count": 27,
   "id": "19b3a057-e33a-4b90-aee0-b3fe4e921bdd",
   "metadata": {},
   "outputs": [],
   "source": [
    "titles = []\n",
    "prices = []\n",
    "availabilities = []\n"
   ]
  },
  {
   "cell_type": "code",
   "execution_count": 28,
   "id": "43a64875-067e-4d0a-8cc4-89af12a5ea01",
   "metadata": {},
   "outputs": [],
   "source": [
    "for book in books:\n",
    "    title = book.h3.a['title']  # Extract book title\n",
    "    price = book.find('p', class_='price_color').text  # Extract price\n",
    "    availability = book.find('p', class_='instock availability').text.strip()  # Extract availability status\n",
    "\n",
    "    titles.append(title)\n",
    "    prices.append(price)\n",
    "    availabilities.append(availability)\n"
   ]
  },
  {
   "cell_type": "code",
   "execution_count": 29,
   "id": "2183278c-45cf-4a38-a5ae-1b193d085f69",
   "metadata": {},
   "outputs": [],
   "source": [
    "df = pd.DataFrame({'Book Title': titles, 'Price': prices, 'Availability': availabilities})"
   ]
  },
  {
   "cell_type": "code",
   "execution_count": 30,
   "id": "f38f1e9d-aff2-45c0-98f4-44db947b3166",
   "metadata": {},
   "outputs": [
    {
     "name": "stdout",
     "output_type": "stream",
     "text": [
      "                              Book Title    Price Availability\n",
      "0                   A Light in the Attic  Â£51.77     In stock\n",
      "1                     Tipping the Velvet  Â£53.74     In stock\n",
      "2                             Soumission  Â£50.10     In stock\n",
      "3                          Sharp Objects  Â£47.82     In stock\n",
      "4  Sapiens: A Brief History of Humankind  Â£54.23     In stock\n"
     ]
    }
   ],
   "source": [
    "print(df.head())"
   ]
  },
  {
   "cell_type": "code",
   "execution_count": 31,
   "id": "1e7062f2-4dd8-4823-b6c4-d7783c70cfe2",
   "metadata": {},
   "outputs": [
    {
     "name": "stdout",
     "output_type": "stream",
     "text": [
      "Data saved to books_data.csv\n"
     ]
    }
   ],
   "source": [
    "df.to_csv('books_data.csv', index=False)\n",
    "\n",
    "print(\"Data saved to books_data.csv\")"
   ]
  },
  {
   "cell_type": "code",
   "execution_count": null,
   "id": "25f8b0df-0ebe-4535-ad2c-5a56da7ac393",
   "metadata": {},
   "outputs": [],
   "source": []
  }
 ],
 "metadata": {
  "kernelspec": {
   "display_name": "Python 3 (ipykernel)",
   "language": "python",
   "name": "python3"
  },
  "language_info": {
   "codemirror_mode": {
    "name": "ipython",
    "version": 3
   },
   "file_extension": ".py",
   "mimetype": "text/x-python",
   "name": "python",
   "nbconvert_exporter": "python",
   "pygments_lexer": "ipython3",
   "version": "3.11.5"
  }
 },
 "nbformat": 4,
 "nbformat_minor": 5
}
